{
 "cells": [
  {
   "cell_type": "code",
   "execution_count": 1,
   "metadata": {},
   "outputs": [
    {
     "name": "stdout",
     "output_type": "stream",
     "text": [
      "Requirement already satisfied: requests in /home/abalzer/Documents/github_clone/bachelor_thesis/.conda/lib/python3.11/site-packages (2.32.3)\n",
      "Requirement already satisfied: networkx in /home/abalzer/Documents/github_clone/bachelor_thesis/.conda/lib/python3.11/site-packages (3.4.2)\n",
      "Requirement already satisfied: pyvis in /home/abalzer/Documents/github_clone/bachelor_thesis/.conda/lib/python3.11/site-packages (0.3.2)\n",
      "Requirement already satisfied: tqdm in /home/abalzer/Documents/github_clone/bachelor_thesis/.conda/lib/python3.11/site-packages (4.67.1)\n",
      "Requirement already satisfied: charset-normalizer<4,>=2 in /home/abalzer/Documents/github_clone/bachelor_thesis/.conda/lib/python3.11/site-packages (from requests) (3.4.1)\n",
      "Requirement already satisfied: idna<4,>=2.5 in /home/abalzer/Documents/github_clone/bachelor_thesis/.conda/lib/python3.11/site-packages (from requests) (3.10)\n",
      "Requirement already satisfied: urllib3<3,>=1.21.1 in /home/abalzer/Documents/github_clone/bachelor_thesis/.conda/lib/python3.11/site-packages (from requests) (2.3.0)\n",
      "Requirement already satisfied: certifi>=2017.4.17 in /home/abalzer/Documents/github_clone/bachelor_thesis/.conda/lib/python3.11/site-packages (from requests) (2025.4.26)\n",
      "Requirement already satisfied: ipython>=5.3.0 in /home/abalzer/Documents/github_clone/bachelor_thesis/.conda/lib/python3.11/site-packages (from pyvis) (9.2.0)\n",
      "Requirement already satisfied: jinja2>=2.9.6 in /home/abalzer/Documents/github_clone/bachelor_thesis/.conda/lib/python3.11/site-packages (from pyvis) (3.1.6)\n",
      "Requirement already satisfied: jsonpickle>=1.4.1 in /home/abalzer/Documents/github_clone/bachelor_thesis/.conda/lib/python3.11/site-packages (from pyvis) (4.1.0)\n",
      "Requirement already satisfied: decorator in /home/abalzer/Documents/github_clone/bachelor_thesis/.conda/lib/python3.11/site-packages (from ipython>=5.3.0->pyvis) (5.2.1)\n",
      "Requirement already satisfied: ipython-pygments-lexers in /home/abalzer/Documents/github_clone/bachelor_thesis/.conda/lib/python3.11/site-packages (from ipython>=5.3.0->pyvis) (1.1.1)\n",
      "Requirement already satisfied: jedi>=0.16 in /home/abalzer/Documents/github_clone/bachelor_thesis/.conda/lib/python3.11/site-packages (from ipython>=5.3.0->pyvis) (0.19.2)\n",
      "Requirement already satisfied: matplotlib-inline in /home/abalzer/Documents/github_clone/bachelor_thesis/.conda/lib/python3.11/site-packages (from ipython>=5.3.0->pyvis) (0.1.7)\n",
      "Requirement already satisfied: pexpect>4.3 in /home/abalzer/Documents/github_clone/bachelor_thesis/.conda/lib/python3.11/site-packages (from ipython>=5.3.0->pyvis) (4.9.0)\n",
      "Requirement already satisfied: prompt_toolkit<3.1.0,>=3.0.41 in /home/abalzer/Documents/github_clone/bachelor_thesis/.conda/lib/python3.11/site-packages (from ipython>=5.3.0->pyvis) (3.0.51)\n",
      "Requirement already satisfied: pygments>=2.4.0 in /home/abalzer/Documents/github_clone/bachelor_thesis/.conda/lib/python3.11/site-packages (from ipython>=5.3.0->pyvis) (2.19.1)\n",
      "Requirement already satisfied: stack_data in /home/abalzer/Documents/github_clone/bachelor_thesis/.conda/lib/python3.11/site-packages (from ipython>=5.3.0->pyvis) (0.6.3)\n",
      "Requirement already satisfied: traitlets>=5.13.0 in /home/abalzer/Documents/github_clone/bachelor_thesis/.conda/lib/python3.11/site-packages (from ipython>=5.3.0->pyvis) (5.14.3)\n",
      "Requirement already satisfied: typing_extensions>=4.6 in /home/abalzer/Documents/github_clone/bachelor_thesis/.conda/lib/python3.11/site-packages (from ipython>=5.3.0->pyvis) (4.12.2)\n",
      "Requirement already satisfied: MarkupSafe>=2.0 in /home/abalzer/Documents/github_clone/bachelor_thesis/.conda/lib/python3.11/site-packages (from jinja2>=2.9.6->pyvis) (3.0.2)\n",
      "Requirement already satisfied: parso<0.9.0,>=0.8.4 in /home/abalzer/Documents/github_clone/bachelor_thesis/.conda/lib/python3.11/site-packages (from jedi>=0.16->ipython>=5.3.0->pyvis) (0.8.4)\n",
      "Requirement already satisfied: ptyprocess>=0.5 in /home/abalzer/Documents/github_clone/bachelor_thesis/.conda/lib/python3.11/site-packages (from pexpect>4.3->ipython>=5.3.0->pyvis) (0.7.0)\n",
      "Requirement already satisfied: wcwidth in /home/abalzer/Documents/github_clone/bachelor_thesis/.conda/lib/python3.11/site-packages (from prompt_toolkit<3.1.0,>=3.0.41->ipython>=5.3.0->pyvis) (0.2.13)\n",
      "Requirement already satisfied: executing>=1.2.0 in /home/abalzer/Documents/github_clone/bachelor_thesis/.conda/lib/python3.11/site-packages (from stack_data->ipython>=5.3.0->pyvis) (2.2.0)\n",
      "Requirement already satisfied: asttokens>=2.1.0 in /home/abalzer/Documents/github_clone/bachelor_thesis/.conda/lib/python3.11/site-packages (from stack_data->ipython>=5.3.0->pyvis) (3.0.0)\n",
      "Requirement already satisfied: pure_eval in /home/abalzer/Documents/github_clone/bachelor_thesis/.conda/lib/python3.11/site-packages (from stack_data->ipython>=5.3.0->pyvis) (0.2.3)\n"
     ]
    }
   ],
   "source": [
    "!pip install requests networkx pyvis tqdm"
   ]
  },
  {
   "cell_type": "code",
   "execution_count": 2,
   "metadata": {},
   "outputs": [],
   "source": [
    "import requests\n",
    "import networkx as nx\n",
    "from pyvis.network import Network\n",
    "from tqdm import tqdm\n",
    "import time\n",
    "from IPython.display import IFrame\n",
    "from IPython.display import display"
   ]
  },
  {
   "cell_type": "code",
   "execution_count": 3,
   "metadata": {},
   "outputs": [],
   "source": [
    "nac_proteins = [\"NACA\", \"BTF3\"]\n",
    "natc_proteins = [\"NAA30\", \"NAA35\", \"NAA40\", \"NAA50\", \"NAA60\", \"NAA70\"]\n",
    "nata_proteins = [\"NAA10\", \"NAA15\", \"NAA20\", \"NAA25\", \"NAA80\"]\n",
    "nat_proteins = nac_proteins + natc_proteins + nata_proteins\n",
    "tom_proteins = [\"TOMM20\", \"TOMM22\", \"TOMM40\", \"TOMM70A\"]\n",
    "species_id = 9606"
   ]
  },
  {
   "cell_type": "code",
   "execution_count": 4,
   "metadata": {},
   "outputs": [],
   "source": [
    "def get_string_ids(gene_names, species=9606):\n",
    "    string_ids = {}\n",
    "    for gene in gene_names:\n",
    "        response = requests.post(\n",
    "            \"https://string-db.org/api/json/get_string_ids\",\n",
    "            params={\"identifiers\": gene, \"species\": species}\n",
    "        )\n",
    "        data = response.json()\n",
    "        if data:\n",
    "            string_ids[gene] = data[0][\"stringId\"]\n",
    "    return string_ids\n",
    "\n",
    "def get_interactions(string_id, score_threshold=700):\n",
    "    url = \"https://string-db.org/api/json/network\"\n",
    "    params = {\n",
    "        \"identifiers\": string_id,\n",
    "        \"species\": species_id,\n",
    "        \"required_score\": score_threshold\n",
    "    }\n",
    "    response = requests.get(url, params=params)\n",
    "    if response.status_code == 200:\n",
    "        return response.json()\n",
    "    return []\n"
   ]
  },
  {
   "cell_type": "code",
   "execution_count": 5,
   "metadata": {},
   "outputs": [],
   "source": [
    "all_seeds = nat_proteins + tom_proteins\n",
    "string_ids = get_string_ids(all_seeds)\n",
    "string_to_gene = {v: k for k, v in string_ids.items()}\n",
    "\n",
    "nac_ids = [string_ids[p] for p in nat_proteins if p in string_ids]\n",
    "tom_ids = [string_ids[p] for p in tom_proteins if p in string_ids]"
   ]
  },
  {
   "cell_type": "code",
   "execution_count": 6,
   "metadata": {},
   "outputs": [],
   "source": [
    "def build_string_graph(start_ids, depth=2, delay=1.0):\n",
    "    G = nx.Graph()\n",
    "    visited = set()\n",
    "\n",
    "    def recurse(ids, d):\n",
    "        if d == 0:\n",
    "            return\n",
    "        next_ids = set()\n",
    "        for sid in tqdm(ids, desc=f\"Depth {depth - d + 1}\"):\n",
    "            if sid in visited:\n",
    "                continue\n",
    "            visited.add(sid)\n",
    "            interactions = get_interactions(sid)\n",
    "            for inter in interactions:\n",
    "                a = inter[\"stringId_A\"]\n",
    "                b = inter[\"stringId_B\"]\n",
    "                score = inter[\"score\"]\n",
    "                G.add_edge(a, b, weight=score)\n",
    "                next_ids.update([a, b])\n",
    "            time.sleep(delay)\n",
    "        recurse(next_ids, d-1)\n",
    "\n",
    "    recurse(start_ids, depth)\n",
    "    return G"
   ]
  },
  {
   "cell_type": "code",
   "execution_count": 7,
   "metadata": {},
   "outputs": [
    {
     "name": "stderr",
     "output_type": "stream",
     "text": [
      "Depth 1: 100%|██████████| 16/16 [00:18<00:00,  1.13s/it]\n",
      "Depth 2: 100%|██████████| 63/63 [00:54<00:00,  1.16it/s]\n",
      "Depth 3: 100%|██████████| 262/262 [03:51<00:00,  1.13it/s]\n"
     ]
    }
   ],
   "source": [
    "interaction_graph = build_string_graph(nac_ids + tom_ids, depth=3)"
   ]
  },
  {
   "cell_type": "code",
   "execution_count": 8,
   "metadata": {},
   "outputs": [],
   "source": [
    "def get_protein_names_dict(string_ids, species=9606):\n",
    "    \"\"\"\n",
    "    Given a list of STRING IDs, return a dictionary mapping each to its preferred protein name.\n",
    "    \n",
    "    Parameters:\n",
    "        string_ids (list): List of STRING protein IDs (e.g., ['9606.ENSP00000354587'])\n",
    "        species (int): NCBI taxonomy ID (default 9606 = human)\n",
    "    \n",
    "    Returns:\n",
    "        dict: Mapping of STRING ID -> preferredName\n",
    "    \"\"\"\n",
    "    url = \"https://string-db.org/api/json/get_string_ids\"\n",
    "    \n",
    "    # Join IDs with carriage return for batch request\n",
    "    identifiers = \"\\r\".join(string_ids)\n",
    "    \n",
    "    params = {\n",
    "        \"identifiers\": identifiers,\n",
    "        \"species\": species\n",
    "    }\n",
    "    \n",
    "    response = requests.get(url, params=params)\n",
    "    if not response.ok:\n",
    "        raise Exception(f\"STRING API request failed: {response.status_code}\")\n",
    "    \n",
    "    results = response.json()\n",
    "    \n",
    "    # Build dictionary\n",
    "    id_to_name = {\n",
    "        item[\"stringId\"]: item.get(\"preferredName\", \"\")\n",
    "        for item in results\n",
    "    }\n",
    "    \n",
    "    return id_to_name"
   ]
  },
  {
   "cell_type": "code",
   "execution_count": 10,
   "metadata": {},
   "outputs": [],
   "source": [
    "remove_id = \"9823.ENSSSCP00000014786\"  \n",
    "\n",
    "# Make a copy so you don't modify the original graph\n",
    "graph_for_paths = interaction_graph.copy()\n",
    "if remove_id in graph_for_paths:\n",
    "    #graph_for_paths.remove_node(remove_id)\n",
    "    print(f\"Removed node {remove_id} from the graph for pathfinding.\")"
   ]
  },
  {
   "cell_type": "code",
   "execution_count": 12,
   "metadata": {},
   "outputs": [
    {
     "name": "stdout",
     "output_type": "stream",
     "text": [
      "bridging_proteins_network.html\n"
     ]
    },
    {
     "data": {
      "text/html": [
       "\n",
       "        <iframe\n",
       "            width=\"100%\"\n",
       "            height=\"700px\"\n",
       "            src=\"bridging_proteins_network.html\"\n",
       "            frameborder=\"0\"\n",
       "            allowfullscreen\n",
       "            \n",
       "        ></iframe>\n",
       "        "
      ],
      "text/plain": [
       "<IPython.lib.display.IFrame at 0x7eeeeca6e990>"
      ]
     },
     "execution_count": 12,
     "metadata": {},
     "output_type": "execute_result"
    }
   ],
   "source": [
    "bridge_nodes = set()\n",
    "all_paths = []\n",
    "\n",
    "for n in nac_ids:\n",
    "    for t in tom_ids:\n",
    "        try:\n",
    "            # Get a generator of simple paths ordered by length\n",
    "            paths_gen = nx.shortest_simple_paths(graph_for_paths, source=n, target=t)\n",
    "            # Take up to three shortest paths\n",
    "            for i, path in enumerate(paths_gen):\n",
    "                if i >= 10:\n",
    "                    break\n",
    "                bridge_nodes.update(path)\n",
    "                all_paths.append(path)\n",
    "        except nx.NetworkXNoPath:\n",
    "            continue\n",
    "\n",
    "# Collect preferred names for the nodes in the bridge\n",
    "get = get_protein_names_dict(list(bridge_nodes), species=species_id)\n",
    "\n",
    "# Create the subgraph and relabel nodes\n",
    "bridge_subgraph = graph_for_paths.subgraph(bridge_nodes).copy()\n",
    "bridge_subgraph_named = nx.relabel_nodes(\n",
    "    bridge_subgraph, \n",
    "    lambda node: get.get(node, node)\n",
    ")\n",
    "\n",
    "# Visualize with PyVis\n",
    "net = Network(notebook=True, height=\"700px\", width=\"100%\", bgcolor=\"#222222\", font_color=\"white\", cdn_resources='remote')\n",
    "net.from_nx(bridge_subgraph_named)\n",
    "net.show(\"bridging_proteins_network.html\")"
   ]
  },
  {
   "cell_type": "code",
   "execution_count": null,
   "metadata": {},
   "outputs": [],
   "source": [
    "net = Network(notebook=True, height=\"700px\", width=\"100%\", bgcolor=\"#222222\", font_color=\"white\",\n",
    "              cdn_resources='remote')\n",
    "\n",
    "# With this:\n",
    "for node in interaction_graph.nodes:\n",
    "    gene_label = string_to_gene.get(node, node)\n",
    "    color = (\n",
    "        \"blue\" if node in nac_ids else\n",
    "        \"red\" if node in tom_ids else\n",
    "        \"gray\"\n",
    "    )\n",
    "    net.add_node(node, label=gene_label, color=color)\n",
    "\n",
    "for u, v, data in interaction_graph.edges(data=True):\n",
    "    net.add_edge(u, v, value=data.get(\"weight\", 1))\n",
    "\n",
    "net.set_options('''\n",
    "var options = {\n",
    "  \"nodes\": {\n",
    "    \"font\": {\n",
    "      \"size\": 14\n",
    "    }\n",
    "  },\n",
    "  \"edges\": {\n",
    "    \"color\": {\n",
    "      \"inherit\": true\n",
    "    },\n",
    "    \"smooth\": false\n",
    "  },\n",
    "  \"physics\": {\n",
    "    \"barnesHut\": {\n",
    "      \"gravitationalConstant\": -8000,\n",
    "      \"springLength\": 250\n",
    "    },\n",
    "    \"minVelocity\": 0.75\n",
    "  }\n",
    "}\n",
    "''')\n",
    "\n",
    "net.show(\"nac_tom_string_network.html\")"
   ]
  },
  {
   "cell_type": "code",
   "execution_count": null,
   "metadata": {},
   "outputs": [],
   "source": [
    "import webbrowser\n",
    "webbrowser.open(\"nac_tom_string_network.html\")"
   ]
  },
  {
   "cell_type": "code",
   "execution_count": null,
   "metadata": {},
   "outputs": [],
   "source": [
    "# Cell 9: Shortest path bridging proteins\n",
    "bridging_proteins = set()\n",
    "for n in nac_ids:\n",
    "    for t in tom_ids:\n",
    "        try:\n",
    "            path = nx.shortest_path(interaction_graph, source=n, target=t)\n",
    "            bridging_proteins.update(path[1:-1])\n",
    "        except nx.NetworkXNoPath:\n",
    "            continue\n",
    "print(f\"Bridging proteins (STRING IDs): {bridging_proteins}\")\n"
   ]
  },
  {
   "cell_type": "code",
   "execution_count": null,
   "metadata": {},
   "outputs": [],
   "source": [
    "# Cell 10: Betweenness centrality ranking\n",
    "centrality = nx.betweenness_centrality(interaction_graph)\n",
    "ranked_bridgers = sorted([(p, centrality[p]) for p in bridging_proteins], key=lambda x: x[1], reverse=True)\n",
    "print(\"Top bridging proteins by centrality:\")\n",
    "for pid, score in ranked_bridgers[:10]:\n",
    "    print(f\"{pid}: {score:.4f}\")\n"
   ]
  }
 ],
 "metadata": {
  "kernelspec": {
   "display_name": "Python 3",
   "language": "python",
   "name": "python3"
  },
  "language_info": {
   "codemirror_mode": {
    "name": "ipython",
    "version": 3
   },
   "file_extension": ".py",
   "mimetype": "text/x-python",
   "name": "python",
   "nbconvert_exporter": "python",
   "pygments_lexer": "ipython3",
   "version": "3.11.11"
  }
 },
 "nbformat": 4,
 "nbformat_minor": 2
}
