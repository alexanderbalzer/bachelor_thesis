{
 "cells": [
  {
   "cell_type": "code",
   "execution_count": null,
   "metadata": {},
   "outputs": [],
   "source": [
    "import pandas as pd\n",
    "import matplotlib.pyplot as plt"
   ]
  },
  {
   "cell_type": "code",
   "execution_count": 15,
   "metadata": {},
   "outputs": [],
   "source": [
    "csv_file_path = '/home/abalzer/Documents/github_clone/bachelor_thesis/pipeline/output/output_20250519_142700_machine_learning_human/Homo_sapiens/feature_matrix_with_go_terms.csv'\n",
    "output_file = '/home/abalzer/Documents/github_clone/bachelor_thesis/pipeline/output/output_20250519_142700_machine_learning_human/Homo_sapiens/'\n",
    "\n",
    "# Read the CSV file into a pandas DataFrame\n",
    "df = pd.read_csv(csv_file_path)"
   ]
  },
  {
   "cell_type": "code",
   "execution_count": 17,
   "metadata": {},
   "outputs": [
    {
     "ename": "TypeError",
     "evalue": "'method' object is not subscriptable",
     "output_type": "error",
     "traceback": [
      "\u001b[31m---------------------------------------------------------------------------\u001b[39m",
      "\u001b[31mTypeError\u001b[39m                                 Traceback (most recent call last)",
      "\u001b[36mCell\u001b[39m\u001b[36m \u001b[39m\u001b[32mIn[17]\u001b[39m\u001b[32m, line 2\u001b[39m\n\u001b[32m      1\u001b[39m mito_df = df.copy\n\u001b[32m----> \u001b[39m\u001b[32m2\u001b[39m mito_df = mito_df[(\u001b[43mmito_df\u001b[49m\u001b[43m[\u001b[49m\u001b[33;43m'\u001b[39;49m\u001b[33;43mGO_Term\u001b[39;49m\u001b[33;43m'\u001b[39;49m\u001b[43m]\u001b[49m == \u001b[33m\"\u001b[39m\u001b[33mGO:0005739\u001b[39m\u001b[33m\"\u001b[39m)]\n\u001b[32m      3\u001b[39m sequence = mito_df[\u001b[33m'\u001b[39m\u001b[33mSequence\u001b[39m\u001b[33m'\u001b[39m]\n\u001b[32m      4\u001b[39m start_of_alpha_helix = mito_df[\u001b[33m'\u001b[39m\u001b[33mstart_of_alpha_helix\u001b[39m\u001b[33m'\u001b[39m]\n",
      "\u001b[31mTypeError\u001b[39m: 'method' object is not subscriptable"
     ]
    }
   ],
   "source": [
    "mito_df = df.copy\n",
    "mito_df = mito_df[(mito_df['GO_Term'] == \"GO:0005739\")]\n",
    "sequence = mito_df['Sequence']\n",
    "start_of_alpha_helix = mito_df['start_of_alpha_helix']\n",
    "length_of_alpha_helix = mito_df['length_of_alpha_helix']\n",
    "end_of_alpha_helix = start_of_alpha_helix + length_of_alpha_helix - 1\n",
    "mito_df['end_of_alpha_helix'] = end_of_alpha_helix\n",
    "# Count how often each position is part of an alpha helix\n",
    "sequence_length = sequence.str.len().max()\n",
    "position_counts = [0] * sequence_length\n",
    "start_counts = [0] * sequence_length\n",
    "end_counts = [0] * sequence_length\n",
    "\n",
    "for start, end in zip(start_of_alpha_helix, end_of_alpha_helix):\n",
    "    for pos in range(start, end + 1):\n",
    "        if pos < sequence_length:\n",
    "            position_counts[pos] += 1\n",
    "    if start < sequence_length:\n",
    "        start_counts[start] += 1\n",
    "    if end < sequence_length:\n",
    "        end_counts[end] += 1\n",
    "\n",
    "# Plot the data\n",
    "plt.figure(figsize=(12, 6))\n",
    "positions = range(sequence_length)\n",
    "\n",
    "# Blue histogram for positions part of an alpha helix\n",
    "plt.bar(positions, position_counts, color='blue', alpha=0.6, label='Part of Alpha Helix')\n",
    "\n",
    "# Green scatter plot for start of alpha helix\n",
    "plt.scatter(positions, start_counts, color='green', label='Start of Alpha Helix')\n",
    "\n",
    "# Red scatter plot for end of alpha helix\n",
    "plt.scatter(positions, end_counts, color='red', label='End of Alpha Helix')\n",
    "\n",
    "plt.xlabel('Position in Sequence')\n",
    "plt.ylabel('Frequency')\n",
    "plt.title('Alpha Helix Position Analysis')\n",
    "plt.legend()\n",
    "plt.tight_layout()\n",
    "plt.show()"
   ]
  }
 ],
 "metadata": {
  "kernelspec": {
   "display_name": "Python 3",
   "language": "python",
   "name": "python3"
  },
  "language_info": {
   "codemirror_mode": {
    "name": "ipython",
    "version": 3
   },
   "file_extension": ".py",
   "mimetype": "text/x-python",
   "name": "python",
   "nbconvert_exporter": "python",
   "pygments_lexer": "ipython3",
   "version": "3.11.11"
  }
 },
 "nbformat": 4,
 "nbformat_minor": 2
}
